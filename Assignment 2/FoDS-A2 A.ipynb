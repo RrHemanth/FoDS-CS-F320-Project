{
 "cells": [
  {
   "cell_type": "markdown",
   "id": "53d4effe",
   "metadata": {},
   "source": [
    "# Import Dataset and Libraries"
   ]
  },
  {
   "cell_type": "code",
   "execution_count": 18,
   "id": "0cdbdc66",
   "metadata": {},
   "outputs": [],
   "source": [
    "import numpy as np\n",
    "import pandas as pd\n",
    "import matplotlib.pyplot as plt\n",
    "import random\n",
    "from matplotlib import cm\n",
    "from mpl_toolkits.mplot3d import Axes3D"
   ]
  },
  {
   "cell_type": "code",
   "execution_count": 19,
   "id": "dea8cb6f",
   "metadata": {},
   "outputs": [],
   "source": [
    "import sklearn\n",
    "from sklearn.preprocessing import MinMaxScaler\n",
    "from sklearn.model_selection import train_test_split\n",
    "from sklearn.linear_model import LinearRegression\n",
    "from sklearn.decomposition import PCA\n",
    "from sklearn.metrics import mean_squared_error\n",
    "from numpy import corrcoef"
   ]
  },
  {
   "cell_type": "code",
   "execution_count": 20,
   "id": "2746e28d",
   "metadata": {},
   "outputs": [
    {
     "name": "stdout",
     "output_type": "stream",
     "text": [
      "(7894, 27)\n"
     ]
    },
    {
     "data": {
      "text/html": [
       "<div>\n",
       "<style scoped>\n",
       "    .dataframe tbody tr th:only-of-type {\n",
       "        vertical-align: middle;\n",
       "    }\n",
       "\n",
       "    .dataframe tbody tr th {\n",
       "        vertical-align: top;\n",
       "    }\n",
       "\n",
       "    .dataframe thead th {\n",
       "        text-align: right;\n",
       "    }\n",
       "</style>\n",
       "<table border=\"1\" class=\"dataframe\">\n",
       "  <thead>\n",
       "    <tr style=\"text-align: right;\">\n",
       "      <th></th>\n",
       "      <th>T1</th>\n",
       "      <th>RH_1</th>\n",
       "      <th>T2</th>\n",
       "      <th>RH_2</th>\n",
       "      <th>T3</th>\n",
       "      <th>RH_3</th>\n",
       "      <th>T4</th>\n",
       "      <th>RH_4</th>\n",
       "      <th>T5</th>\n",
       "      <th>RH_5</th>\n",
       "      <th>...</th>\n",
       "      <th>RH_9</th>\n",
       "      <th>T_out</th>\n",
       "      <th>Press_mm_hg</th>\n",
       "      <th>RH_out</th>\n",
       "      <th>Windspeed</th>\n",
       "      <th>Visibility</th>\n",
       "      <th>Tdewpoint</th>\n",
       "      <th>rv1</th>\n",
       "      <th>rv2</th>\n",
       "      <th>Appliances</th>\n",
       "    </tr>\n",
       "  </thead>\n",
       "  <tbody>\n",
       "    <tr>\n",
       "      <th>0</th>\n",
       "      <td>21.20</td>\n",
       "      <td>33.290</td>\n",
       "      <td>19.823333</td>\n",
       "      <td>31.790000</td>\n",
       "      <td>23.463333</td>\n",
       "      <td>38.230000</td>\n",
       "      <td>20.50</td>\n",
       "      <td>31.73</td>\n",
       "      <td>19.200000</td>\n",
       "      <td>39.363333</td>\n",
       "      <td>...</td>\n",
       "      <td>29.230000</td>\n",
       "      <td>9.85</td>\n",
       "      <td>756.183333</td>\n",
       "      <td>41.833333</td>\n",
       "      <td>4.833333</td>\n",
       "      <td>40.0</td>\n",
       "      <td>-2.67</td>\n",
       "      <td>42.017180</td>\n",
       "      <td>42.017180</td>\n",
       "      <td>290</td>\n",
       "    </tr>\n",
       "    <tr>\n",
       "      <th>1</th>\n",
       "      <td>21.79</td>\n",
       "      <td>38.500</td>\n",
       "      <td>19.500000</td>\n",
       "      <td>40.633333</td>\n",
       "      <td>22.500000</td>\n",
       "      <td>37.900000</td>\n",
       "      <td>21.00</td>\n",
       "      <td>37.90</td>\n",
       "      <td>20.033333</td>\n",
       "      <td>47.290000</td>\n",
       "      <td>...</td>\n",
       "      <td>40.326667</td>\n",
       "      <td>6.90</td>\n",
       "      <td>754.000000</td>\n",
       "      <td>75.000000</td>\n",
       "      <td>4.000000</td>\n",
       "      <td>40.0</td>\n",
       "      <td>2.80</td>\n",
       "      <td>24.624380</td>\n",
       "      <td>24.624380</td>\n",
       "      <td>50</td>\n",
       "    </tr>\n",
       "    <tr>\n",
       "      <th>2</th>\n",
       "      <td>22.39</td>\n",
       "      <td>41.390</td>\n",
       "      <td>20.200000</td>\n",
       "      <td>43.790000</td>\n",
       "      <td>24.500000</td>\n",
       "      <td>39.333333</td>\n",
       "      <td>20.10</td>\n",
       "      <td>38.26</td>\n",
       "      <td>19.390000</td>\n",
       "      <td>48.090000</td>\n",
       "      <td>...</td>\n",
       "      <td>42.060000</td>\n",
       "      <td>10.10</td>\n",
       "      <td>756.433333</td>\n",
       "      <td>68.000000</td>\n",
       "      <td>5.833333</td>\n",
       "      <td>40.0</td>\n",
       "      <td>4.45</td>\n",
       "      <td>3.731260</td>\n",
       "      <td>3.731260</td>\n",
       "      <td>260</td>\n",
       "    </tr>\n",
       "    <tr>\n",
       "      <th>3</th>\n",
       "      <td>24.00</td>\n",
       "      <td>30.260</td>\n",
       "      <td>24.390000</td>\n",
       "      <td>26.963333</td>\n",
       "      <td>23.390000</td>\n",
       "      <td>33.400000</td>\n",
       "      <td>22.79</td>\n",
       "      <td>31.20</td>\n",
       "      <td>21.033333</td>\n",
       "      <td>40.626667</td>\n",
       "      <td>...</td>\n",
       "      <td>35.500000</td>\n",
       "      <td>19.10</td>\n",
       "      <td>760.000000</td>\n",
       "      <td>31.000000</td>\n",
       "      <td>4.000000</td>\n",
       "      <td>40.0</td>\n",
       "      <td>1.50</td>\n",
       "      <td>1.058826</td>\n",
       "      <td>1.058826</td>\n",
       "      <td>50</td>\n",
       "    </tr>\n",
       "    <tr>\n",
       "      <th>4</th>\n",
       "      <td>20.05</td>\n",
       "      <td>38.245</td>\n",
       "      <td>17.600000</td>\n",
       "      <td>41.000000</td>\n",
       "      <td>21.100000</td>\n",
       "      <td>37.200000</td>\n",
       "      <td>19.89</td>\n",
       "      <td>36.40</td>\n",
       "      <td>18.200000</td>\n",
       "      <td>43.560000</td>\n",
       "      <td>...</td>\n",
       "      <td>38.863333</td>\n",
       "      <td>0.10</td>\n",
       "      <td>754.600000</td>\n",
       "      <td>99.000000</td>\n",
       "      <td>1.000000</td>\n",
       "      <td>32.0</td>\n",
       "      <td>-0.10</td>\n",
       "      <td>39.248108</td>\n",
       "      <td>39.248108</td>\n",
       "      <td>30</td>\n",
       "    </tr>\n",
       "  </tbody>\n",
       "</table>\n",
       "<p>5 rows × 27 columns</p>\n",
       "</div>"
      ],
      "text/plain": [
       "      T1    RH_1         T2       RH_2         T3       RH_3     T4   RH_4  \\\n",
       "0  21.20  33.290  19.823333  31.790000  23.463333  38.230000  20.50  31.73   \n",
       "1  21.79  38.500  19.500000  40.633333  22.500000  37.900000  21.00  37.90   \n",
       "2  22.39  41.390  20.200000  43.790000  24.500000  39.333333  20.10  38.26   \n",
       "3  24.00  30.260  24.390000  26.963333  23.390000  33.400000  22.79  31.20   \n",
       "4  20.05  38.245  17.600000  41.000000  21.100000  37.200000  19.89  36.40   \n",
       "\n",
       "          T5       RH_5  ...       RH_9  T_out  Press_mm_hg     RH_out  \\\n",
       "0  19.200000  39.363333  ...  29.230000   9.85   756.183333  41.833333   \n",
       "1  20.033333  47.290000  ...  40.326667   6.90   754.000000  75.000000   \n",
       "2  19.390000  48.090000  ...  42.060000  10.10   756.433333  68.000000   \n",
       "3  21.033333  40.626667  ...  35.500000  19.10   760.000000  31.000000   \n",
       "4  18.200000  43.560000  ...  38.863333   0.10   754.600000  99.000000   \n",
       "\n",
       "   Windspeed  Visibility  Tdewpoint        rv1        rv2  Appliances  \n",
       "0   4.833333        40.0      -2.67  42.017180  42.017180         290  \n",
       "1   4.000000        40.0       2.80  24.624380  24.624380          50  \n",
       "2   5.833333        40.0       4.45   3.731260   3.731260         260  \n",
       "3   4.000000        40.0       1.50   1.058826   1.058826          50  \n",
       "4   1.000000        32.0      -0.10  39.248108  39.248108          30  \n",
       "\n",
       "[5 rows x 27 columns]"
      ]
     },
     "execution_count": 20,
     "metadata": {},
     "output_type": "execute_result"
    }
   ],
   "source": [
    "fname = 'FODS-A2.csv'\n",
    "df = pd.read_csv(fname,header=0,encoding='UTF8')\n",
    "print(df.shape)\n",
    "df.head()"
   ]
  },
  {
   "cell_type": "code",
   "execution_count": 21,
   "id": "a931d380",
   "metadata": {},
   "outputs": [],
   "source": [
    "data = df.to_numpy()\n",
    "features = list(df.columns)"
   ]
  },
  {
   "cell_type": "markdown",
   "id": "1b5e113a",
   "metadata": {},
   "source": [
    "# Linear Regression and Normalization"
   ]
  },
  {
   "cell_type": "code",
   "execution_count": 22,
   "id": "f5c5beab",
   "metadata": {},
   "outputs": [],
   "source": [
    "def predict(data, theta):\n",
    "    X = data[:,0:-1]\n",
    "    y = data[:,-1].reshape(-1, 1)\n",
    "    \n",
    "    y_pred = np.dot(X, theta)\n",
    "    return y_pred"
   ]
  },
  {
   "cell_type": "code",
   "execution_count": 23,
   "id": "e9480c1e",
   "metadata": {},
   "outputs": [],
   "source": [
    "def train_norm(data):\n",
    "    X = data[:,1:-1]\n",
    "    X_mean = np.mean(X, axis=0)\n",
    "    X_std = np.std(X, axis = 0)\n",
    "    X_norm = np.divide((X - X_mean), X_std)\n",
    "    \n",
    "    data_norm = np.c_[data[:,0], X_norm, data[:,-1]]\n",
    "    \n",
    "    return data_norm, X_mean, X_std"
   ]
  },
  {
   "cell_type": "code",
   "execution_count": 24,
   "id": "af28ed42",
   "metadata": {},
   "outputs": [],
   "source": [
    "def test_norm(data, X_mean, X_std):\n",
    "    X = data[:,1:-1]\n",
    "    X_norm = np.divide((X - X_mean), X_std)\n",
    "    \n",
    "    data_norm = np.c_[data[:,0], X_norm, data[:,-1]]\n",
    "    return data_norm"
   ]
  },
  {
   "cell_type": "code",
   "execution_count": 25,
   "id": "6d7c35bb",
   "metadata": {},
   "outputs": [],
   "source": [
    "def computeCost(data, theta):\n",
    "    m = len(data)\n",
    "    X = data[:,0:-1]\n",
    "    y = data[:,-1].reshape(-1, 1)\n",
    "    \n",
    "    J = np.sum((np.dot(X, theta) - y)**2) / (2 * m)\n",
    "    \n",
    "    return J"
   ]
  },
  {
   "cell_type": "code",
   "execution_count": 26,
   "id": "e3f38751",
   "metadata": {},
   "outputs": [],
   "source": [
    "def gradDes(data, theta, alpha, num_iters):\n",
    "    m = len(data)\n",
    "    X = data[:,0:-1]\n",
    "    y = data[:,-1].reshape(-1, 1)\n",
    "    J_history = np.zeros(num_iters)\n",
    "    \n",
    "    for iter in range(num_iters):\n",
    "        delta = np.dot(X.T, (np.dot(X, theta) - y))\n",
    "        theta = theta - (alpha/m)*delta\n",
    "        J_history[iter] = computeCost(data, theta)\n",
    "        \n",
    "    return theta, J_history"
   ]
  },
  {
   "cell_type": "code",
   "execution_count": 27,
   "id": "e0246ebf",
   "metadata": {},
   "outputs": [],
   "source": [
    "def data_split(data):\n",
    "    random.seed(30)\n",
    "    order = list(range(len(data)))\n",
    "    shuffle = random.sample(order, int(len(order) * 0.8))\n",
    "    rem = [i for i in order if i not in shuffle]\n",
    "    \n",
    "    train_set = data[shuffle,:]\n",
    "    test_set = data[rem, :]\n",
    "    return train_set, test_set"
   ]
  },
  {
   "cell_type": "markdown",
   "id": "fc7a41ea",
   "metadata": {},
   "source": [
    "# Principal Component Analysis"
   ]
  },
  {
   "cell_type": "code",
   "execution_count": 28,
   "id": "44ac36aa",
   "metadata": {},
   "outputs": [],
   "source": [
    "def PCA_calc(n, data):\n",
    "    pca = PCA(n_components = n)\n",
    "    pca.fit(data[:,0:-1])\n",
    "    pca_data = pca.transform(data[:,0:-1])\n",
    "    pca_data = np.concatenate((pca_data, data[:,-1].reshape(-1,1)), axis=1)\n",
    "    return pca_data, pca"
   ]
  },
  {
   "cell_type": "code",
   "execution_count": 29,
   "id": "6d6f4cad",
   "metadata": {},
   "outputs": [],
   "source": [
    "pca_errors = []\n",
    "pca_eigenval_list = []\n",
    "const = np.ones((len(data), 1))"
   ]
  },
  {
   "cell_type": "code",
   "execution_count": 30,
   "id": "771e94ba",
   "metadata": {},
   "outputs": [],
   "source": [
    "for n in range(1, 27):\n",
    "    pca_data, pca = PCA_calc(n, data)\n",
    "    eigenvalues = list(pca.explained_variance_[0:n])\n",
    "    \n",
    "    pca_data = np.concatenate((const, pca_data), axis = 1)\n",
    "    \n",
    "    train_set, test_set = data_split(pca_data)\n",
    "    \n",
    "    theta = np.zeros((pca_data.shape[1] - 1, 1))\n",
    "    \n",
    "    train_set, train_mean, train_std = train_norm(train_set)\n",
    "    theta, J_history = gradDes(train_set, theta, 0.01, 10**3)\n",
    "    \n",
    "    training_error = J_history[-1]\n",
    "    \n",
    "    test_set = test_norm(test_set, train_mean, train_std)\n",
    "    y_pred = predict(test_set, theta)\n",
    "    testing_error = computeCost(test_set, theta)\n",
    "        \n",
    "    pca_errors.append([n, training_error, testing_error])\n",
    "    pca_eigenval_list.append(eigenvalues)"
   ]
  },
  {
   "cell_type": "code",
   "execution_count": 31,
   "id": "8cea808b",
   "metadata": {},
   "outputs": [],
   "source": [
    "pca_errors"
   ]
  },
  {
   "cell_type": "markdown",
   "id": "0b90c37c",
   "metadata": {},
   "source": [
    "# Pearson Correlation Coefficient"
   ]
  },
  {
   "cell_type": "code",
   "execution_count": 32,
   "id": "42435a81",
   "metadata": {},
   "outputs": [],
   "source": [
    "def calc_corr(data):\n",
    "    corr_coeffs_org = []\n",
    "    corr_coeffs_abs = []\n",
    "    for n in range(1, 27):\n",
    "        corr = corrcoef(data[:, n - 1], data[:, -1])[0][1]\n",
    "        corr_coeffs_org.append([n, corr])\n",
    "        corr_coeffs_abs.append([n, np.absolute(corr)])\n",
    "        \n",
    "        corr_coeffs_sorted = sorted(corr_coeffs_abs, key=lambda l:l[1], reverse=True)\n",
    "    return corr_coeffs_sorted, corr_coeffs_org"
   ]
  },
  {
   "cell_type": "code",
   "execution_count": 33,
   "id": "ab0d736a",
   "metadata": {},
   "outputs": [
    {
     "data": {
      "text/plain": [
       "[[21, 0.1578880406411128],\n",
       " [11, 0.11579905440694678],\n",
       " [3, 0.10954237300483129],\n",
       " [19, 0.09890810764010083],\n",
       " [16, 0.09104028998178086]]"
      ]
     },
     "execution_count": 33,
     "metadata": {},
     "output_type": "execute_result"
    }
   ],
   "source": [
    "corr_coeffs, corr_coeffs_org = calc_corr(data)\n",
    "corr_coeffs[0:5]"
   ]
  },
  {
   "cell_type": "code",
   "execution_count": 37,
   "id": "adbf3ed9",
   "metadata": {},
   "outputs": [],
   "source": [
    "corr_errors = []\n",
    "corr_features = []\n",
    "const = np.ones((len(data), 1))"
   ]
  },
  {
   "cell_type": "code",
   "execution_count": 35,
   "id": "bd06e2d1",
   "metadata": {},
   "outputs": [],
   "source": [
    "for n in range(1, 27):\n",
    "    columns = []\n",
    "    for i in range(n):\n",
    "        columns.append(corr_coeffs[i][0] - 1)\n",
    "    \n",
    "    feat = [features[i] for i in columns]\n",
    "    corr_features.append(feat)\n",
    "        \n",
    "    corr_data = data[:,columns]\n",
    "    corr_data = np.concatenate((corr_data, data[:,-1].reshape(-1,1)), axis=1)\n",
    "    corr_data = np.concatenate((const, corr_data), axis = 1)\n",
    "    \n",
    "    train_set, test_set = data_split(corr_data)\n",
    "    \n",
    "    theta = np.zeros((corr_data.shape[1] - 1, 1))\n",
    "    \n",
    "    train_set, train_mean, train_std = train_norm(train_set)\n",
    "    theta, J_history = gradDes(train_set, theta, 0.01, 10**3)\n",
    "    \n",
    "    training_error = J_history[-1]\n",
    "    \n",
    "    test_set = test_norm(test_set, train_mean, train_std)\n",
    "    y_pred = predict(test_set, theta)\n",
    "    testing_error = computeCost(test_set, theta)\n",
    "    \n",
    "    corr_errors.append([n, training_error, testing_error])   "
   ]
  },
  {
   "cell_type": "code",
   "execution_count": 36,
   "id": "9ab21587",
   "metadata": {},
   "outputs": [],
   "source": [
    "corr_errors"
   ]
  }
 ],
 "metadata": {
  "kernelspec": {
   "display_name": "Python 3",
   "language": "python",
   "name": "python3"
  },
  "language_info": {
   "codemirror_mode": {
    "name": "ipython",
    "version": 3
   },
   "file_extension": ".py",
   "mimetype": "text/x-python",
   "name": "python",
   "nbconvert_exporter": "python",
   "pygments_lexer": "ipython3",
   "version": "3.10.9 (tags/v3.10.9:1dd9be6, Dec  6 2022, 20:01:21) [MSC v.1934 64 bit (AMD64)]"
  },
  "vscode": {
   "interpreter": {
    "hash": "f492cb604a93ffa847aec430284612da13358546e25dc14ddf41055665b91ab2"
   }
  }
 },
 "nbformat": 4,
 "nbformat_minor": 5
}
